{
  "nbformat": 4,
  "nbformat_minor": 0,
  "metadata": {
    "colab": {
      "name": "Sentiment Analysis",
      "provenance": []
    },
    "kernelspec": {
      "name": "python3",
      "display_name": "Python 3"
    },
    "language_info": {
      "name": "python"
    },
    "accelerator": "GPU"
  },
  "cells": [
    {
      "cell_type": "code",
      "metadata": {
        "colab": {
          "base_uri": "https://localhost:8080/"
        },
        "id": "7by88zeI9vzU",
        "outputId": "1495c68a-8662-4aa1-e16f-b58cb24a8830"
      },
      "source": [
        "!pwd"
      ],
      "execution_count": 40,
      "outputs": [
        {
          "output_type": "stream",
          "text": [
            "/content\n"
          ],
          "name": "stdout"
        }
      ]
    },
    {
      "cell_type": "code",
      "metadata": {
        "id": "eXfmxV87dWuu",
        "colab": {
          "base_uri": "https://localhost:8080/"
        },
        "outputId": "c0ba0eae-7380-4584-9efc-ce5e0221197a"
      },
      "source": [
        "from google.colab import drive\n",
        "drive.mount('/content/gdrive',force_remount=True)"
      ],
      "execution_count": 41,
      "outputs": [
        {
          "output_type": "stream",
          "text": [
            "Mounted at /content/gdrive\n"
          ],
          "name": "stdout"
        }
      ]
    },
    {
      "cell_type": "code",
      "metadata": {
        "id": "EPZzhlPaDBC_"
      },
      "source": [
        "import os\n",
        "import pandas as pd\n",
        "import sklearn\n",
        "from sklearn.model_selection import train_test_split\n",
        "from sklearn.feature_extraction.text import TfidfVectorizer\n",
        "from sklearn.svm import SVC"
      ],
      "execution_count": 42,
      "outputs": []
    },
    {
      "cell_type": "code",
      "metadata": {
        "id": "ULK-0AHKDvHK"
      },
      "source": [
        "df = pd.read_csv('/content/gdrive/MyDrive/IMDB Dataset.csv')"
      ],
      "execution_count": 43,
      "outputs": []
    },
    {
      "cell_type": "code",
      "metadata": {
        "id": "R498hw5cDzLc",
        "colab": {
          "base_uri": "https://localhost:8080/"
        },
        "outputId": "557aae46-ab7f-4777-f127-37461d7e6a41"
      },
      "source": [
        "df['sentiment'].value_counts()\n",
        "# to check for imbalance in the data"
      ],
      "execution_count": 44,
      "outputs": [
        {
          "output_type": "execute_result",
          "data": {
            "text/plain": [
              "positive    25000\n",
              "negative    25000\n",
              "Name: sentiment, dtype: int64"
            ]
          },
          "metadata": {
            "tags": []
          },
          "execution_count": 44
        }
      ]
    },
    {
      "cell_type": "code",
      "metadata": {
        "id": "6o1HcotLWbYI"
      },
      "source": [
        "df_positive = df[df['sentiment']=='positive'][:2500]\n",
        "df_negative = df[df['sentiment']=='negative'][:2500]\n",
        "\n",
        "df_mini = pd.concat([df_positive, df_negative])"
      ],
      "execution_count": 45,
      "outputs": []
    },
    {
      "cell_type": "code",
      "metadata": {
        "id": "RLf83JAwD5dz"
      },
      "source": [
        "train, test = train_test_split(df_mini, test_size = 0.30, random_state = 0)"
      ],
      "execution_count": 46,
      "outputs": []
    },
    {
      "cell_type": "code",
      "metadata": {
        "id": "qf3nkSbQdg8o"
      },
      "source": [
        "train_x = train['review']\n",
        "train_y = train['sentiment']\n",
        "test_x = test['review']\n",
        "test_y = test['sentiment']"
      ],
      "execution_count": 47,
      "outputs": []
    },
    {
      "cell_type": "code",
      "metadata": {
        "colab": {
          "base_uri": "https://localhost:8080/"
        },
        "id": "AfsBnVaBbM_c",
        "outputId": "90fdc494-8a91-4f48-f5c5-39564a1b929f"
      },
      "source": [
        "train_y"
      ],
      "execution_count": 48,
      "outputs": [
        {
          "output_type": "execute_result",
          "data": {
            "text/plain": [
              "691     negative\n",
              "3096    positive\n",
              "2883    positive\n",
              "4401    positive\n",
              "2768    positive\n",
              "          ...   \n",
              "4820    negative\n",
              "1552    negative\n",
              "3302    positive\n",
              "185     negative\n",
              "442     negative\n",
              "Name: sentiment, Length: 3500, dtype: object"
            ]
          },
          "metadata": {
            "tags": []
          },
          "execution_count": 48
        }
      ]
    },
    {
      "cell_type": "code",
      "metadata": {
        "colab": {
          "base_uri": "https://localhost:8080/"
        },
        "id": "zj2gilsMmqqo",
        "outputId": "bf8720b4-ce04-4d24-9970-8bc9db4853be"
      },
      "source": [
        "'''\n",
        "TF-IDF (Term Frequency, Inverse Document Frequency)\n",
        "Suppose there is some word, which is frequent in all the\n",
        "documents, then if the dataset is balanced, then this word\n",
        "won't be significant to any of the documents and would be \n",
        "assigned less weight.\n",
        "There is some another word, which is frequent in only few\n",
        "of the documents and not in others, then this word is significant\n",
        "to these docs and would be assigned higher weights.\n",
        "This is what this method does, for some word, it calculates the \n",
        "overall frequency and multiplies it by the inverse frequency of \n",
        "the word overall documents.\n",
        "'''\n",
        "tfidf = TfidfVectorizer(stop_words = 'english')\n",
        "train_x_vector = tfidf.fit_transform(train_x)\n",
        "train_x_vector"
      ],
      "execution_count": 49,
      "outputs": [
        {
          "output_type": "execute_result",
          "data": {
            "text/plain": [
              "<3500x32996 sparse matrix of type '<class 'numpy.float64'>'\n",
              "\twith 312488 stored elements in Compressed Sparse Row format>"
            ]
          },
          "metadata": {
            "tags": []
          },
          "execution_count": 49
        }
      ]
    },
    {
      "cell_type": "code",
      "metadata": {
        "id": "WUuAGp_qm2B9"
      },
      "source": [
        "test_x_vector = tfidf.transform(test_x)"
      ],
      "execution_count": 50,
      "outputs": []
    },
    {
      "cell_type": "code",
      "metadata": {
        "id": "uqEhslp2-NQf",
        "colab": {
          "base_uri": "https://localhost:8080/"
        },
        "outputId": "5fbac730-bcf1-4158-c55e-d93364b1a4bd"
      },
      "source": [
        "svc = SVC(kernel = 'linear')\n",
        "svc.fit(train_x_vector, train_y)"
      ],
      "execution_count": 51,
      "outputs": [
        {
          "output_type": "execute_result",
          "data": {
            "text/plain": [
              "SVC(C=1.0, break_ties=False, cache_size=200, class_weight=None, coef0=0.0,\n",
              "    decision_function_shape='ovr', degree=3, gamma='scale', kernel='linear',\n",
              "    max_iter=-1, probability=False, random_state=None, shrinking=True,\n",
              "    tol=0.001, verbose=False)"
            ]
          },
          "metadata": {
            "tags": []
          },
          "execution_count": 51
        }
      ]
    },
    {
      "cell_type": "code",
      "metadata": {
        "colab": {
          "base_uri": "https://localhost:8080/"
        },
        "id": "CdwSOCZ2RPOt",
        "outputId": "8a52fd49-8085-4dca-cb7c-230a55a528ff"
      },
      "source": [
        "print(svc.predict(tfidf.transform(['A good movie'])))\n",
        "print(svc.predict(tfidf.transform(['An excellent movie'])))\n",
        "print(svc.predict(tfidf.transform(['I did not like this movie at all'])))"
      ],
      "execution_count": 52,
      "outputs": [
        {
          "output_type": "stream",
          "text": [
            "['positive']\n",
            "['positive']\n",
            "['negative']\n"
          ],
          "name": "stdout"
        }
      ]
    },
    {
      "cell_type": "code",
      "metadata": {
        "colab": {
          "base_uri": "https://localhost:8080/"
        },
        "id": "0J7TfSACX_A7",
        "outputId": "fcdfc13a-0b89-4128-b508-158783baf622"
      },
      "source": [
        "svc.score(test_x_vector, test_y)"
      ],
      "execution_count": 53,
      "outputs": [
        {
          "output_type": "execute_result",
          "data": {
            "text/plain": [
              "0.87"
            ]
          },
          "metadata": {
            "tags": []
          },
          "execution_count": 53
        }
      ]
    },
    {
      "cell_type": "code",
      "metadata": {
        "id": "baebtI-RZcMY"
      },
      "source": [
        "from sklearn.metrics import confusion_matrix\n",
        "\n",
        "conf_mat = confusion_matrix(test_y, \n",
        "                            svc.predict(test_x_vector), \n",
        "                            labels=['positive', 'negative'])"
      ],
      "execution_count": 54,
      "outputs": []
    },
    {
      "cell_type": "code",
      "metadata": {
        "colab": {
          "base_uri": "https://localhost:8080/"
        },
        "id": "feomGKYLckMS",
        "outputId": "65ed353f-62c9-4494-d308-289fd70b1627"
      },
      "source": [
        "print(conf_mat)"
      ],
      "execution_count": 55,
      "outputs": [
        {
          "output_type": "stream",
          "text": [
            "[[645  76]\n",
            " [119 660]]\n"
          ],
          "name": "stdout"
        }
      ]
    },
    {
      "cell_type": "code",
      "metadata": {
        "colab": {
          "base_uri": "https://localhost:8080/"
        },
        "id": "pnCqYtvCdCRh",
        "outputId": "ca0a16d5-450c-4735-e654-51300d26e0e8"
      },
      "source": [
        "from sklearn.metrics import f1_score\n",
        "\n",
        "f1_score(test_y, svc.predict(test_x_vector),\n",
        "         labels=['positive', 'negative'],\n",
        "         average=None)"
      ],
      "execution_count": 57,
      "outputs": [
        {
          "output_type": "execute_result",
          "data": {
            "text/plain": [
              "array([0.86868687, 0.87128713])"
            ]
          },
          "metadata": {
            "tags": []
          },
          "execution_count": 57
        }
      ]
    },
    {
      "cell_type": "code",
      "metadata": {
        "id": "KNDVb4hFg_uc"
      },
      "source": [
        ""
      ],
      "execution_count": null,
      "outputs": []
    }
  ]
}